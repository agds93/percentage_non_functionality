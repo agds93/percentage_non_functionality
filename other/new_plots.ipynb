{
 "cells": [
  {
   "cell_type": "code",
   "execution_count": null,
   "id": "bd6c9c5e-6465-4e45-adcb-42c845d1cf3f",
   "metadata": {},
   "outputs": [],
   "source": [
    "import os, sys\n",
    "import numpy as np\n",
    "import matplotlib.pyplot as mpl\n",
    "import scipy as sp\n",
    "import pandas as pd\n",
    "\n",
    "from mayavi import mlab\n",
    "\n",
    "sys.path.append(\"./code/bin/\")\n",
    "import ZernikeFunc as ZF\n",
    "import SurfaceFunc as SF"
   ]
  },
  {
   "cell_type": "code",
   "execution_count": null,
   "id": "f4dee8a2-df89-42b1-86c0-abe20ed9f3d6",
   "metadata": {},
   "outputs": [],
   "source": [
    "Npixel = 25   # the plane edge in pixels...\n",
    "\n",
    "Rs     = 6    # the radius of the sphere that includes the patch..\n",
    "\n",
    "Dpp = 1       # the distance between points of the same patch (needed to remove islands)\n",
    "\n",
    "ZOrder = 20   # the Zernike expansion order.."
   ]
  },
  {
   "cell_type": "code",
   "execution_count": null,
   "id": "980cb567-bd2b-4fa6-aadb-c3bca9913534",
   "metadata": {},
   "outputs": [],
   "source": [
    "### To load a new surface:\n",
    "surf_name_a =  \"4bs2_RRM2.dms\"\n",
    "\n",
    "surf_a_ = pd.read_csv(surf_name_a)\n",
    "    \n",
    "l_a = len(surf_a_[\"x\"])\n",
    "print(\"Npoints\", l_a)\n",
    "\n",
    "surf_a = np.zeros((l_a, 6))\n",
    "surf_a[:,:] = surf_a_[[\"x\", \"y\", \"z\", \"Nx\", \"Ny\", \"Nz\"]]\n",
    "\n",
    "\n",
    "\n",
    "### To inizialize the Surface class:\n",
    "surf_a_obj = SF.Surface(surf_a[:,:], patch_num = 0, r0 = Rs, theta_max = 45)"
   ]
  },
  {
   "cell_type": "code",
   "execution_count": null,
   "id": "7b7bf90e-cfcf-473f-a7fd-1d6a1aacf0b6",
   "metadata": {},
   "outputs": [],
   "source": [
    "## To isolate one patch of the surface:\n",
    "## Example, the patch around point 5000..\n",
    "patch, _ = surf_a_obj.BuildPatch(point_pos=5000, Dmin=.5)\n",
    "\n",
    "patch2, _ = surf_a_obj.BuildPatch(point_pos=19841, Dmin=.5)"
   ]
  },
  {
   "cell_type": "code",
   "execution_count": null,
   "id": "1c439a3d-e272-4e20-9650-cef4ac10ba64",
   "metadata": {},
   "outputs": [],
   "source": [
    "# plotting surface + patch\n",
    "res1, c = SF.ConcatenateFigPlots([surf_a_obj.surface[:,:3],patch[:,:3]])\n",
    "SF.Plot3DPoints(res1[:,0], res1[:,1], res1[:,2], c, 0.3)"
   ]
  },
  {
   "cell_type": "code",
   "execution_count": null,
   "id": "2cb8229e-8d86-4324-90ab-5b436006f915",
   "metadata": {},
   "outputs": [],
   "source": [
    "# plotting surface + patch2\n",
    "res1, c = SF.ConcatenateFigPlots([surf_a_obj.surface[:,:3],patch2[:,:3]])\n",
    "SF.Plot3DPoints(res1[:,0], res1[:,1], res1[:,2], c, 0.3)"
   ]
  },
  {
   "cell_type": "code",
   "execution_count": null,
   "id": "4e08d9f9-2f6c-4864-be00-0c4c368ce3fc",
   "metadata": {},
   "outputs": [],
   "source": [
    "## To rotate a patch:    \n",
    "rot_patch, rot_patch_nv = surf_a_obj.PatchReorientNew(patch, 1)"
   ]
  },
  {
   "cell_type": "code",
   "execution_count": null,
   "id": "06ff486f-a5bf-4a03-934f-f7770159dd5f",
   "metadata": {},
   "outputs": [],
   "source": [
    "z = surf_a_obj.FindOrigin(rot_patch)\n",
    "plane, weigths, dist_plane, thetas = surf_a_obj.CreatePlane(patch=rot_patch, z_c=z , Np=Npixel)\n",
    "            \n",
    "new_plane = surf_a_obj.FillTheGap_everywhere(plane_=plane)\n",
    "## enlarging plane..\n",
    "new_plane_ =  surf_a_obj.EnlargePixels(new_plane)\n",
    "\n",
    "\n",
    "# plotting res..\n",
    "fig, ax = mpl.subplots(1,2, dpi = 150)\n",
    "ax[0].imshow(plane)\n",
    "ax[1].imshow(new_plane_)\n",
    "ax[0].axis('off')\n",
    "ax[1].axis('off')\n",
    "ax[0].set_title(\"original\")\n",
    "ax[1].set_title(\"processed\")\n",
    "mpl.show()"
   ]
  },
  {
   "cell_type": "code",
   "execution_count": null,
   "id": "843bd105-eb4b-4fa4-aa8f-6d86a0d5e7f1",
   "metadata": {},
   "outputs": [],
   "source": [
    "zernike_env = ZF.Zernike2d(new_plane_)"
   ]
  },
  {
   "cell_type": "code",
   "execution_count": null,
   "id": "a5810842-4972-4f32-89d3-8faa0c4f5081",
   "metadata": {},
   "outputs": [],
   "source": [
    "coeff = zernike_env.ZernikeDecomposition(order=ZOrder)"
   ]
  },
  {
   "cell_type": "code",
   "execution_count": null,
   "id": "fdf1e57f-9186-44b7-9eac-dec611238181",
   "metadata": {},
   "outputs": [],
   "source": [
    "coeff_inv = np.absolute(coeff)"
   ]
  },
  {
   "cell_type": "code",
   "execution_count": null,
   "id": "206b266d-7571-4a75-964b-48f6efa909d3",
   "metadata": {},
   "outputs": [],
   "source": [
    "fig, ax = mpl.subplots(nrows=1, ncols=1, figsize=(5,4), facecolor=\"white\", dpi=150)\n",
    "data = plane\n",
    "min_data = np.amin(data)\n",
    "max_data = np.amax(data)\n",
    "ax.set_title(\"Original\", fontsize=\"12\")\n",
    "ax.set_xlabel(\"x\", fontsize=\"8\")\n",
    "ax.set_ylabel(\"y\", fontsize=\"8\")\n",
    "ax.tick_params(axis=\"both\", width =\"0.50\", color=\"black\", labelsize=\"8\")\n",
    "im = ax.pcolormesh(data, cmap=\"Greens\")\n",
    "for side in ax.spines.keys():  # 'top', 'bottom', 'left', 'right'\n",
    "    ax.spines[side].set_linewidth(0.50)\n",
    "    ax.spines[side].set_color(\"black\")\n",
    "cb = mpl.colorbar(im, ax=ax, ticks=[min_data, 0.25*max_data, 0.5*max_data, 0.75*max_data, max_data])\n",
    "cb.ax.tick_params(axis=\"both\", width =\"0.30\", color=\"black\", labelsize=\"8\")\n",
    "for side in cb.ax.spines.keys():  # 'top', 'bottom', 'left', 'right'\n",
    "    cb.ax.spines[side].set_linewidth(0.50)\n",
    "    cb.ax.spines[side].set_color(\"black\")\n",
    "\n",
    "#mpl.savefig(\"original_5000.png\")"
   ]
  },
  {
   "cell_type": "code",
   "execution_count": null,
   "id": "c01c4c2b-5a26-4e1d-aea3-ed810b588fdc",
   "metadata": {},
   "outputs": [],
   "source": [
    "fig, ax = mpl.subplots(nrows=1, ncols=1, figsize=(5,4), facecolor=\"white\", dpi=150)\n",
    "data = new_plane_\n",
    "min_data = np.amin(data)\n",
    "max_data = np.amax(data)\n",
    "ax.set_title(\"Processed\", fontsize=\"12\")\n",
    "ax.set_xlabel(\"x\", fontsize=\"8\")\n",
    "ax.set_ylabel(\"y\", fontsize=\"8\")\n",
    "ax.tick_params(axis=\"both\", width =\"0.50\", color=\"black\", labelsize=\"8\")\n",
    "im = ax.pcolormesh(data, cmap=\"Greens\")\n",
    "for side in ax.spines.keys():  # 'top', 'bottom', 'left', 'right'\n",
    "    ax.spines[side].set_linewidth(0.50)\n",
    "    ax.spines[side].set_color(\"black\")\n",
    "cb = mpl.colorbar(im, ax=ax, ticks=[min_data, 0.25*max_data, 0.5*max_data, 0.75*max_data, max_data])\n",
    "cb.ax.tick_params(axis=\"both\", width =\"0.30\", color=\"black\", labelsize=\"8\")\n",
    "for side in cb.ax.spines.keys():  # 'top', 'bottom', 'left', 'right'\n",
    "    cb.ax.spines[side].set_linewidth(0.50)\n",
    "    cb.ax.spines[side].set_color(\"black\")\n",
    "\n",
    "#mpl.savefig(\"processed_5000.png\")"
   ]
  },
  {
   "cell_type": "code",
   "execution_count": null,
   "id": "59b49fea-985a-4527-b79e-065daabfe158",
   "metadata": {},
   "outputs": [],
   "source": [
    "fig, ax = mpl.subplots(nrows=1, ncols=1, figsize=(6,4), facecolor=\"white\", dpi=150)\n",
    "ax.set_xlabel(\"Index (n,m)\")\n",
    "ax.set_ylabel(\"Zernike Invariant $|c_{nm}|$\")\n",
    "ax.tick_params(axis=\"both\", width =\"0.50\", color=\"black\", labelsize=\"8\")\n",
    "for side in ax.spines.keys():  # 'top', 'bottom', 'left', 'right'\n",
    "    ax.spines[side].set_linewidth(0.50)\n",
    "    ax.spines[side].set_color(\"black\")\n",
    "ax.plot(coeff_inv, lw=\"1\")\n",
    "\n",
    "#mpl.savefig(\"invariant_5000.png\")"
   ]
  },
  {
   "cell_type": "code",
   "execution_count": null,
   "id": "4da1390a-c42f-4616-a5cf-65149c23b1e4",
   "metadata": {},
   "outputs": [],
   "source": []
  }
 ],
 "metadata": {
  "kernelspec": {
   "display_name": "Python 3 (ipykernel)",
   "language": "python",
   "name": "python3"
  },
  "language_info": {
   "codemirror_mode": {
    "name": "ipython",
    "version": 3
   },
   "file_extension": ".py",
   "mimetype": "text/x-python",
   "name": "python",
   "nbconvert_exporter": "python",
   "pygments_lexer": "ipython3",
   "version": "3.8.10"
  }
 },
 "nbformat": 4,
 "nbformat_minor": 5
}
