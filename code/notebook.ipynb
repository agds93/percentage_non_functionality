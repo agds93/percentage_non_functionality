{
 "cells": [
  {
   "cell_type": "code",
   "execution_count": null,
   "id": "b9599f56-0e48-4daa-81c1-d2685f24f6e2",
   "metadata": {
    "tags": []
   },
   "outputs": [],
   "source": [
    "import os, sys\n",
    "import numpy as np\n",
    "import matplotlib.pyplot as mpl\n",
    "import scipy as sp\n",
    "import pandas as pd\n",
    "from mayavi import mlab"
   ]
  },
  {
   "cell_type": "code",
   "execution_count": null,
   "id": "7da58d46-00ce-4b10-997c-fab61a1cd3a9",
   "metadata": {},
   "outputs": [],
   "source": [
    "sys.path.append(\"./bin/\")\n",
    "import ZernikeFunc as ZF\n",
    "import SurfaceFunc as SF\n",
    "import MyUtils as MU  # my personal collection of functions"
   ]
  },
  {
   "cell_type": "markdown",
   "id": "43441883-1384-48e0-8e6a-9778bc250878",
   "metadata": {
    "tags": []
   },
   "source": [
    "# Initial parameters "
   ]
  },
  {
   "cell_type": "code",
   "execution_count": null,
   "id": "f379b46a-8749-407c-b082-59daecca9593",
   "metadata": {},
   "outputs": [],
   "source": [
    "# Parameters definition\n",
    "Npixel = 25    # the plane edge in pixels\n",
    "Rs = 6         # the radius of the sphere that includes the patch\n",
    "Dpp = 0.5      # the distance between points of the same patch (needed to remove islands)\n",
    "center = 5000  # point of the surface used as center of the patch (default index value)\n",
    "threshold = 5  # value to enstablish variance is high (in Angstrom units)"
   ]
  },
  {
   "cell_type": "code",
   "execution_count": null,
   "id": "2e1a55cb-d7a7-4135-9754-098499bb2eb3",
   "metadata": {},
   "outputs": [],
   "source": [
    "### To load a new surface:\n",
    "surf_name_a = \"./data/4bs2_RRM2.dms\"\n",
    "surf_a_ = pd.read_csv(surf_name_a)  \n",
    "l_a = len(surf_a_[\"x\"])\n",
    "print(\"Npoints\", l_a)\n",
    "surf_a = np.zeros((l_a, 6))\n",
    "surf_a[:,:] = surf_a_[[\"x\", \"y\", \"z\", \"Nx\", \"Ny\", \"Nz\"]]"
   ]
  },
  {
   "cell_type": "code",
   "execution_count": null,
   "id": "bd486595-80e0-4c4b-841f-f9b0d568eb55",
   "metadata": {},
   "outputs": [],
   "source": [
    "### To inizialize the Surface class:\n",
    "surf_a_obj = SF.Surface(surf_a[:,:], patch_num = 0, r0 = Rs, theta_max = 45)"
   ]
  },
  {
   "cell_type": "markdown",
   "id": "ac1e1b66-858b-481b-87a0-16cc3157dcca",
   "metadata": {},
   "source": [
    "## 3D graphs of the surface"
   ]
  },
  {
   "cell_type": "code",
   "execution_count": null,
   "id": "3e10b305-b5d7-4ff8-b144-8e0bf4ac6eeb",
   "metadata": {},
   "outputs": [],
   "source": [
    "# To plot entire surface in 3D:\n",
    "res1, c = SF.ConcatenateFigPlots([surf_a_obj.surface[:,:3]])\n",
    "SF.Plot3DPoints(res1[:,0], res1[:,1], res1[:,2], c, 0.3)"
   ]
  },
  {
   "cell_type": "code",
   "execution_count": null,
   "id": "1d499820-1b74-49af-9d61-46083cfdded5",
   "metadata": {},
   "outputs": [],
   "source": [
    "# plotting surface + patch\n",
    "res1, c = SF.ConcatenateFigPlots([surf_a_obj.surface[:,:3],patch[:,:3]])\n",
    "SF.Plot3DPoints(res1[:,0], res1[:,1], res1[:,2], c, 0.3)"
   ]
  },
  {
   "cell_type": "code",
   "execution_count": null,
   "id": "93a9dcf9-547b-41a7-b2b3-374e249e7be2",
   "metadata": {},
   "outputs": [],
   "source": [
    "# plotting patch only\n",
    "res1, c = SF.ConcatenateFigPlots([patch[:,:3]])\n",
    "SF.Plot3DPoints(res1[:,0], res1[:,1], res1[:,2], c, 0.3)"
   ]
  },
  {
   "cell_type": "code",
   "execution_count": null,
   "id": "9f72970c-3229-42bd-afb2-0dc14ee20e23",
   "metadata": {},
   "outputs": [],
   "source": [
    "# plotting patch + colored center of mass\n",
    "cm = np.mean(patch[:,:3], axis=0)\n",
    "res1, c = SF.ConcatenateFigPlots([patch[:,:3],np.row_stack([cm,cm])])\n",
    "SF.Plot3DPoints(res1[:,0], res1[:,1], res1[:,2], c, 0.3)"
   ]
  },
  {
   "cell_type": "code",
   "execution_count": null,
   "id": "de4167c0-5c35-408b-8ab7-e929f267b3c7",
   "metadata": {},
   "outputs": [],
   "source": [
    "# plotting patch + rotated patch\n",
    "tmp1 = patch[:,:3] - np.mean(patch[:,:3], axis=0)\n",
    "tmp2 = rot_patch[:,:3]\n",
    "res1, c = SF.ConcatenateFigPlots([tmp1,tmp2])\n",
    "SF.Plot3DPoints(res1[:,0], res1[:,1], res1[:,2], c, 0.3)"
   ]
  },
  {
   "cell_type": "code",
   "execution_count": null,
   "id": "b2a0e097-6ab6-4741-b36e-b4e7c330839c",
   "metadata": {},
   "outputs": [],
   "source": [
    "# plotting rotated patch with normal vectors\n",
    "SF.Plot3DPointsAndVectors(rot_patch[:,0], rot_patch[:,1], rot_patch[:,2],rot_patch_nv[:,0], rot_patch_nv[:,1], rot_patch_nv[:,2])"
   ]
  },
  {
   "cell_type": "markdown",
   "id": "66dc5a4a-34bf-456e-b84a-d11633e9270c",
   "metadata": {},
   "source": [
    "# Percentage of non-functionality with the first method"
   ]
  },
  {
   "cell_type": "code",
   "execution_count": null,
   "id": "f24e9064-4be5-4411-8457-590f1a144b26",
   "metadata": {},
   "outputs": [],
   "source": [
    "## To isolate one patch of the surface:\n",
    "patch, mask = surf_a_obj.BuildPatch(point_pos=center, Dmin=Dpp)"
   ]
  },
  {
   "cell_type": "code",
   "execution_count": null,
   "id": "bcd61c77-b600-461f-8a6d-245f01e6635a",
   "metadata": {},
   "outputs": [],
   "source": [
    "## To rotate a patch:    \n",
    "rot_patch, rot_patch_nv = surf_a_obj.PatchReorientNew(patch, +1)\n",
    "# +1 : vettori normali verso l'alto (default)\n",
    "# -1 : vettori normali verso il basso"
   ]
  },
  {
   "cell_type": "code",
   "execution_count": null,
   "id": "e65dc2c9-1f91-44a5-b9c9-d4a22de4d522",
   "metadata": {},
   "outputs": [],
   "source": [
    "## To project the patch on the xy plane...\n",
    "z = surf_a_obj.FindOrigin(rot_patch, 0)  # mettere 1 al posto di 0 per plottare patch ruotata + cono\n",
    "# per ottenere le medie e le varianze della patch sul piano xy\n",
    "plane, plane_var, _, _, _ = MU.CreatePlane_Weights(\"\", patch=rot_patch, z_c=z, Np=Npixel)"
   ]
  },
  {
   "cell_type": "code",
   "execution_count": null,
   "id": "c39a2aa2-e7cc-464b-9f44-1bb91dc3b0c6",
   "metadata": {},
   "outputs": [],
   "source": [
    "# To calculate percentage of non-funzionality within unitary disk respect to a certain threshold\n",
    "# The RuntimeWarning is provided in the libraries\n",
    "_, perc = MU.PercHigherVariance_Weights(\"var\", Npixel, surf_a_obj, center, Dpp, threshold)\n",
    "print(\"Percentage of high variances on unit disk is {}\".format(perc))"
   ]
  },
  {
   "cell_type": "code",
   "execution_count": null,
   "id": "09aa84d7-c58f-4ec0-80c5-8a2344464ad2",
   "metadata": {},
   "outputs": [],
   "source": [
    "MU.PlotMeanVariancePatch(center, Dpp, Rs, perc, threshold, plane, plane_var, [], \"\")\n",
    "\n",
    "# To save figure\n",
    "#MU.PlotMeanVariancePatch(center, Dpp, Rs, perc, threshold, plane, plane_var, [], \"Point_{}_Weights\".format(center))"
   ]
  },
  {
   "cell_type": "markdown",
   "id": "96f225aa-89a0-4d91-abb8-e5f139faff2b",
   "metadata": {},
   "source": [
    "The patch with this center is a true function (the percentage of non-functionality is zero) because there is no variance higher than the threshold value.  \n",
    "The greater the number of pixels with variance above the threshold, the higher the non-functionality fraction of the chosen patch."
   ]
  },
  {
   "cell_type": "markdown",
   "id": "18ad14ed-ad2d-459b-a42e-5b294a8a2dde",
   "metadata": {},
   "source": [
    "## Percentage of non-functionality for each patch"
   ]
  },
  {
   "cell_type": "code",
   "execution_count": null,
   "id": "e6d077f4-68f4-4481-8f4a-c0e02dfaa39e",
   "metadata": {},
   "outputs": [],
   "source": [
    "limit = l_a\n",
    "step = 1\n",
    "points_list = np.arange(0,limit,step)\n",
    "perc = np.zeros((len(points_list)))\n",
    "\n",
    "for i in range(len(points_list)) :\n",
    "    _, _, perc[i] = MU.PercHigherVariance_Weights(Npixel, Rs, surf_a_obj, points_list[i], Dpp, threshold)\n",
    "    \n",
    "print(\"Number of patches =\",len(perc))"
   ]
  },
  {
   "cell_type": "code",
   "execution_count": null,
   "id": "3f1ba927-062d-4c35-90f4-a9e80cee338a",
   "metadata": {},
   "outputs": [],
   "source": [
    "with open(\"all_perc.txt\", \"w\") as file0 :\n",
    "    for i in range(len(points_list)) :\n",
    "        file0.write(\"{}\\t{}\\n\".format(points_list[i],perc[i]))"
   ]
  },
  {
   "cell_type": "code",
   "execution_count": null,
   "id": "29288ec0-cecd-412b-b7ed-17f4f97c4fe0",
   "metadata": {},
   "outputs": [],
   "source": [
    "points_list = np.loadtxt(\"./risultati/all_perc.txt\", usecols=0, unpack=True)\n",
    "perc = np.loadtxt(\"./risultati/all_perc.txt\", usecols=1, unpack=True)"
   ]
  },
  {
   "cell_type": "code",
   "execution_count": null,
   "id": "cb0f533e-88c5-4d90-874d-d6dfa4bae017",
   "metadata": {},
   "outputs": [],
   "source": [
    "fig, ax = mpl.subplots(nrows=1, ncols=1, figsize=(8,4), facecolor=\"white\", dpi=200)\n",
    "\n",
    "ax.set_xlim(0, len(perc))\n",
    "ax.set_ylim(0, np.amax(perc)+0.01)\n",
    "\n",
    "ax.set_title(\"Threshold = {}, Points = {}, Pixels = {}, Dpp = {}, Rs = {}\".format(threshold,len(points_list),Npixel,Dpp,Rs), fontsize=\"8\")\n",
    "ax.set_xlabel(\"Surface point\", fontsize=\"8\")\n",
    "ax.set_ylabel(\"Percentage\", fontsize=\"8\")\n",
    "\n",
    "ax.tick_params(axis=\"both\", width =\"0.30\", color=\"black\", labelsize=\"6\")\n",
    "ax.locator_params(axis=\"x\", nbins=21)\n",
    "ax.locator_params(axis=\"y\", nbins=21)\n",
    "for side in ax.spines.keys():  # 'top', 'bottom', 'left', 'right'\n",
    "    ax.spines[side].set_linewidth(0.30)\n",
    "    ax.spines[side].set_color(\"black\")\n",
    "\n",
    "ax.plot(points_list, perc, \"o\", markersize=\"0.4\", rasterized=True)\n",
    "\n",
    "fig.tight_layout()\n",
    "#mpl.savefig(\"all_perc.pdf\")"
   ]
  },
  {
   "cell_type": "code",
   "execution_count": null,
   "id": "d9938bc3-df67-469d-a3ee-007989e46633",
   "metadata": {},
   "outputs": [],
   "source": [
    "fig, ax = mpl.subplots(nrows=1, ncols=1, figsize=(8,4), facecolor=\"white\", dpi=200)\n",
    "\n",
    "ax.set_title(\"Threshold = {} $\\AA$, Points = {}, Pixels = {}, Dpp = {}, Rs = {}\".format(threshold,len(points_list),Npixel,Dpp,Rs), fontsize=\"8\")\n",
    "ax.set_xlabel(\"Percentage\", fontsize=\"8\")\n",
    "ax.set_ylabel(\"Number of values\", fontsize=\"8\")\n",
    "\n",
    "ax.tick_params(axis=\"both\", width =\"0.30\", color=\"black\", labelsize=\"6\")\n",
    "ax.locator_params(axis=\"x\", nbins=20)\n",
    "ax.locator_params(axis=\"y\", nbins=20)\n",
    "for side in ax.spines.keys():  # 'top', 'bottom', 'left', 'right'\n",
    "    ax.spines[side].set_linewidth(0.30)\n",
    "    ax.spines[side].set_color(\"black\")\n",
    "\n",
    "ax.hist(perc, bins=int(np.sqrt(len(perc))), histtype=\"step\", rasterized=True)\n",
    "\n",
    "fig.tight_layout()\n",
    "mpl.savefig(\"hist_01.pdf\")"
   ]
  },
  {
   "cell_type": "markdown",
   "id": "7e4dfe6d-1cad-4f4f-afbd-1cae1c53dca9",
   "metadata": {},
   "source": [
    "Therefore, for the surface under examination, the best points are those corresponding to the minimums of the percentage, while the worst ones are those corresponding to the maximums.  \n",
    "The absolute maximum and a local maximum are identified below."
   ]
  },
  {
   "cell_type": "code",
   "execution_count": null,
   "id": "b34cdbb3-3e57-437c-af21-bbaca0603604",
   "metadata": {},
   "outputs": [],
   "source": [
    "ipmax, _, _, _ = MU.zone_extremes(perc, 0, len(perc))\n",
    "plane, plane_var, _ = MU.PercHigherVariance_Weights(\"\", Npixel, surf_a_obj, ipmax, Dpp, threshold)\n",
    "MU.PlotMeanVariancePatch(ipmax, Dpp, Rs, perc[ipmax], threshold, plane, plane_var, [], \"\")\n",
    "\n",
    "# To save figure\n",
    "#MU.PlotMeanVariancePatch(ipmax, Dpp, Rs, perc[ipmax], threshold, plane, plane_var, [], \"Point_{}_Weights\".format(ipmax))"
   ]
  },
  {
   "cell_type": "code",
   "execution_count": null,
   "id": "b567afaf-dcd8-4083-8e26-f753c851c6ff",
   "metadata": {},
   "outputs": [],
   "source": [
    "ipmax, _, _, _ = MU.zone_extremes(perc, 8000, 12000)\n",
    "plane, plane_var, _ = MU.PercHigherVariance_Weights(\"\", Npixel, surf_a_obj, ipmax, Dpp, threshold)\n",
    "MU.PlotMeanVariancePatch(ipmax, Dpp, Rs, perc[ipmax], threshold, plane, plane_var, [], \"\")\n",
    "\n",
    "# To save figure\n",
    "#MU.PlotMeanVariancePatch(ipmax, Dpp, Rs, perc[ipmax], threshold, plane, plane_var, [], \"Point_{}_Weights\".format(ipmax))"
   ]
  },
  {
   "cell_type": "markdown",
   "id": "a78d33dd-e64e-4716-a057-49d077b6bffd",
   "metadata": {},
   "source": [
    "# Percentage of non-functionality with the second method\n",
    "An attempt to reduce the percentage of non-functionality. "
   ]
  },
  {
   "cell_type": "code",
   "execution_count": null,
   "id": "ba88889a-6096-4360-8fa3-69755eebdd38",
   "metadata": {},
   "outputs": [],
   "source": [
    "center = 5000\n",
    "plane, plane_var, perc = MU.PercHigherVariance_Projections(\"\", Npixel, surf_a_obj, center, Dpp, threshold)\n",
    "MU.PlotMeanVariancePatch(center, Dpp, Rs, perc, threshold, plane, plane_var, [], \"\")\n",
    "\n",
    "# To save figure\n",
    "#MU.PlotMeanVariancePatch(center, Dpp, Rs, perc, threshold, plane, plane_var, [], \"Point_{}_Projections\".format(center))"
   ]
  },
  {
   "cell_type": "code",
   "execution_count": null,
   "id": "588567fd-7266-4f0f-9f42-c1c2714a227c",
   "metadata": {},
   "outputs": [],
   "source": [
    "center = 19841\n",
    "plane, plane_var, perc = MU.PercHigherVariance_Projections(\"\", Npixel, surf_a_obj, center, Dpp, threshold)\n",
    "MU.PlotMeanVariancePatch(center, Dpp, Rs, perc, threshold, plane, plane_var, [], \"\")\n",
    "\n",
    "# To save figure\n",
    "#MU.PlotMeanVariancePatch(center, Dpp, Rs, perc, threshold, plane, plane_var, [], \"Point_{}_Projections\".format(center))"
   ]
  },
  {
   "cell_type": "code",
   "execution_count": null,
   "id": "3faffca6-f9d5-4178-816c-6abe6d1ea6ee",
   "metadata": {},
   "outputs": [],
   "source": [
    "center = 8227\n",
    "plane, plane_var, perc = MU.PercHigherVariance_Projections(\"\", Npixel, surf_a_obj, center, Dpp, threshold)\n",
    "MU.PlotMeanVariancePatch(center, Dpp, Rs, perc, threshold, plane, plane_var, [], \"\")\n",
    "\n",
    "# To save figure\n",
    "#MU.PlotMeanVariancePatch(center, Dpp, Rs, perc, threshold, plane, plane_var, [], \"Point_{}_Projections\".format(center))"
   ]
  },
  {
   "cell_type": "markdown",
   "id": "3c581cc7-e925-4acf-a60a-05eed99bff9c",
   "metadata": {},
   "source": [
    "## Percentage of non-functionality for each patch"
   ]
  },
  {
   "cell_type": "code",
   "execution_count": null,
   "id": "1a40b14d-0b04-40b3-aa96-2c2312ba42ef",
   "metadata": {},
   "outputs": [],
   "source": [
    "limit = l_a\n",
    "step = 1\n",
    "points_list = np.arange(0,limit,step)\n",
    "perc = np.zeros((len(points_list)))\n",
    "\n",
    "for i in range(len(points_list)) :\n",
    "    _, _, perc[i] = MU.PercHigherVariance_Projections(Npixel, Rs, surf_a_obj, points_list[i], Dpp, threshold)\n",
    "    \n",
    "print(\"Number of patches =\",len(perc))"
   ]
  },
  {
   "cell_type": "code",
   "execution_count": null,
   "id": "68f3d05d-d42a-48ba-9beb-23bec9de42de",
   "metadata": {},
   "outputs": [],
   "source": [
    "with open(\"all_perc_projections.txt\", \"w\") as file0b :\n",
    "    for i in range(len(points_list)) :\n",
    "        file0b.write(\"{}\\t{}\\n\".format(points_list[i],perc[i]))"
   ]
  },
  {
   "cell_type": "code",
   "execution_count": null,
   "id": "8ad66479-86bc-4e6e-9b99-64d412d417a0",
   "metadata": {},
   "outputs": [],
   "source": [
    "# prendo indici delle patch e relative percentuali dal file\n",
    "points_list = np.loadtxt(\"./risultati/all_perc_projections.txt\", usecols=0, unpack=True)\n",
    "perc = np.loadtxt(\"./risultati/all_perc_projections.txt\", usecols=1, unpack=True)"
   ]
  },
  {
   "cell_type": "code",
   "execution_count": null,
   "id": "2e76c799-ec0c-41fb-abe7-138515a20e3b",
   "metadata": {},
   "outputs": [],
   "source": [
    "fig, ax = mpl.subplots(nrows=1, ncols=1, figsize=(8,4), facecolor=\"white\", dpi=200)\n",
    "\n",
    "ax.set_xlim(0, len(perc))\n",
    "ax.set_ylim(0, np.amax(perc)+0.01)\n",
    "\n",
    "ax.set_title(\"Threshold = {}, Points = {}, Pixels = {}, Dpp = {}, Rs = {}\".format(threshold,len(points_list),Npixel,Dpp,Rs), fontsize=\"8\")\n",
    "ax.set_xlabel(\"Surface point\", fontsize=\"8\")\n",
    "ax.set_ylabel(\"Percentage\", fontsize=\"8\")\n",
    "\n",
    "ax.tick_params(axis=\"both\", width =\"0.30\", color=\"black\", labelsize=\"6\")\n",
    "ax.locator_params(axis=\"x\", nbins=21)\n",
    "ax.locator_params(axis=\"y\", nbins=21)\n",
    "for side in ax.spines.keys():  # 'top', 'bottom', 'left', 'right'\n",
    "    ax.spines[side].set_linewidth(0.30)\n",
    "    ax.spines[side].set_color(\"black\")\n",
    "\n",
    "ax.plot(points_list, perc, \"o\", markersize=\"0.4\", rasterized=True)\n",
    "\n",
    "fig.tight_layout()\n",
    "#mpl.savefig(\"all_perc_proj.pdf\")"
   ]
  },
  {
   "cell_type": "code",
   "execution_count": null,
   "id": "c73688ab-0c96-4277-af90-7a7f0e206f9f",
   "metadata": {},
   "outputs": [],
   "source": [
    "fig, ax = mpl.subplots(nrows=1, ncols=1, figsize=(8,4), facecolor=\"white\", dpi=200)\n",
    "\n",
    "ax.set_title(\"Threshold = {} $\\AA$, Points = {}, Pixels = {}, Dpp = {}, Rs = {}\".format(threshold,len(points_list),Npixel,Dpp,Rs), fontsize=\"8\")\n",
    "ax.set_xlabel(\"Percentage\", fontsize=\"8\")\n",
    "ax.set_ylabel(\"Number of values\", fontsize=\"8\")\n",
    "\n",
    "ax.tick_params(axis=\"both\", width =\"0.30\", color=\"black\", labelsize=\"6\")\n",
    "ax.locator_params(axis=\"x\", nbins=20)\n",
    "ax.locator_params(axis=\"y\", nbins=20)\n",
    "for side in ax.spines.keys():  # 'top', 'bottom', 'left', 'right'\n",
    "    ax.spines[side].set_linewidth(0.30)\n",
    "    ax.spines[side].set_color(\"black\")\n",
    "\n",
    "ax.hist(perc, bins=int(np.sqrt(len(perc))), histtype=\"step\", rasterized=True)\n",
    "\n",
    "fig.tight_layout()\n",
    "#mpl.savefig(\"hist_02.pdf\")"
   ]
  },
  {
   "cell_type": "code",
   "execution_count": null,
   "id": "226f0a06-52e1-41d6-8121-e0f31f0ba4bc",
   "metadata": {},
   "outputs": [],
   "source": []
  }
 ],
 "metadata": {
  "kernelspec": {
   "display_name": "Python 3",
   "language": "python",
   "name": "python3"
  },
  "language_info": {
   "codemirror_mode": {
    "name": "ipython",
    "version": 3
   },
   "file_extension": ".py",
   "mimetype": "text/x-python",
   "name": "python",
   "nbconvert_exporter": "python",
   "pygments_lexer": "ipython3",
   "version": "3.8.10"
  }
 },
 "nbformat": 4,
 "nbformat_minor": 5
}
